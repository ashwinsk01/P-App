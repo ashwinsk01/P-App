{
  "nbformat": 4,
  "nbformat_minor": 0,
  "metadata": {
    "colab": {
      "name": "finalchk.ipynb",
      "provenance": [],
      "collapsed_sections": [],
      "include_colab_link": true
    },
    "kernelspec": {
      "name": "python3",
      "display_name": "Python 3"
    },
    "accelerator": "GPU"
  },
  "cells": [
    {
      "cell_type": "markdown",
      "metadata": {
        "id": "view-in-github",
        "colab_type": "text"
      },
      "source": [
        "<a href=\"https://colab.research.google.com/github/ashwinsk01/P-App/blob/main/finalchk.ipynb\" target=\"_parent\"><img src=\"https://colab.research.google.com/assets/colab-badge.svg\" alt=\"Open In Colab\"/></a>"
      ]
    },
    {
      "cell_type": "code",
      "metadata": {
        "id": "jmpmi_ob3nlh",
        "colab": {
          "base_uri": "https://localhost:8080/",
          "height": 104
        },
        "outputId": "04785a6d-4c6e-4d64-dd78-6127e4cdda6e"
      },
      "source": [
        "!git clone https://github.com/googlecodelabs/tensorflow-for-poets-2"
      ],
      "execution_count": null,
      "outputs": [
        {
          "output_type": "stream",
          "text": [
            "Cloning into 'tensorflow-for-poets-2'...\n",
            "remote: Enumerating objects: 426, done.\u001b[K\n",
            "remote: Total 426 (delta 0), reused 0 (delta 0), pack-reused 426\u001b[K\n",
            "Receiving objects: 100% (426/426), 33.97 MiB | 10.61 MiB/s, done.\n",
            "Resolving deltas: 100% (159/159), done.\n"
          ],
          "name": "stdout"
        }
      ]
    },
    {
      "cell_type": "code",
      "metadata": {
        "id": "TJSn5Y3Q-6kQ",
        "colab": {
          "base_uri": "https://localhost:8080/",
          "height": 52
        },
        "outputId": "b0883a60-c41e-44de-c69b-3999d5639f62"
      },
      "source": [
        "%cd /content/tensorflow-for-poets-2/tf_files\n",
        "!rm -r bottlenecks\n",
        "!ls"
      ],
      "execution_count": null,
      "outputs": [
        {
          "output_type": "stream",
          "text": [
            "/content/tensorflow-for-poets-2/tf_files\n",
            "rm: cannot remove 'bottlenecks': No such file or directory\n"
          ],
          "name": "stdout"
        }
      ]
    },
    {
      "cell_type": "code",
      "metadata": {
        "id": "kxfZkXiHCVpG"
      },
      "source": [
        "!find . -type d -empty -delete  "
      ],
      "execution_count": null,
      "outputs": []
    },
    {
      "cell_type": "code",
      "metadata": {
        "id": "Yp7v-WoNApqS"
      },
      "source": [
        "%%shell\n",
        "\n",
        "INPUT_FILE='interimmainimg.csv'\n",
        "\n",
        "IFS=' '\n",
        "\n",
        "while read OS HS\n",
        "do\n",
        "\n",
        "FILENAME=$(echo ${HS##*/})\n",
        "EXTENSION=\"${FILENAME##*.}\"\n",
        "FILENAME=\"${FILENAME%.*}\"\n",
        "\n",
        "\n",
        "mkdir $OS\n",
        "cd \"/content/tensorflow-for-poets-2/tf_files/places/$OS\"\n",
        "wget $HS\n",
        "for i in {1..20}; do cp $FILENAME.jpg \"$FILENAME$i.jpg\"; done\n",
        "cd /content/tensorflow-for-poets-2/tf_files/places\n",
        "\n",
        "\n",
        "done < $INPUT_FILE\n",
        "\n"
      ],
      "execution_count": null,
      "outputs": []
    },
    {
      "cell_type": "code",
      "metadata": {
        "id": "OtciOijUA6ue",
        "colab": {
          "base_uri": "https://localhost:8080/",
          "height": 52
        },
        "outputId": "3fccbcb4-f194-4137-f538-edb30ac2df87"
      },
      "source": [
        "%cd /content\n",
        "!ls"
      ],
      "execution_count": null,
      "outputs": [
        {
          "output_type": "stream",
          "text": [
            "/content\n",
            "gdrive\tsample_data\n"
          ],
          "name": "stdout"
        }
      ]
    },
    {
      "cell_type": "code",
      "metadata": {
        "id": "ECRBUzXuCdRq",
        "colab": {
          "base_uri": "https://localhost:8080/",
          "height": 34
        },
        "outputId": "74d54b00-d478-476f-ff30-f9fa2d6dcdb0"
      },
      "source": [
        "!mv /content/tensorflow-for-poets-2/tf_files/places/interimmainimg.csv /content"
      ],
      "execution_count": null,
      "outputs": [
        {
          "output_type": "stream",
          "text": [
            "mv: cannot stat '/content/tensorflow-for-poets-2/tf_files/places/interimmainimg.csv': No such file or directory\n"
          ],
          "name": "stdout"
        }
      ]
    },
    {
      "cell_type": "code",
      "metadata": {
        "id": "IdB5ux47FmCt"
      },
      "source": [
        "%%shell\n",
        "\n",
        "IMAGE_SIZE=224\n",
        "ARCHITECTURE=\"mobilenet_0.50_${IMAGE_SIZE}\"\n",
        "python -m scripts.retrain \\\n",
        "  --bottleneck_dir=tf_files/bottlenecks \\\n",
        "  --model_dir=tf_files/models/\"${ARCHITECTURE}\" \\\n",
        "  --summaries_dir=tf_files/training_summaries/\"${ARCHITECTURE}\" \\\n",
        "  --output_graph=tf_files/retrained_graph.pb \\\n",
        "  --output_labels=tf_files/retrained_labels.txt \\\n",
        "  --architecture=\"${ARCHITECTURE}\""
      ],
      "execution_count": null,
      "outputs": []
    },
    {
      "cell_type": "code",
      "metadata": {
        "id": "ZuBRq_NBH_cd"
      },
      "source": [
        "%%shell\n",
        "\n",
        "python -m scripts.label_image \\\n",
        "    --graph=tf_files/retrained_graph.pb  \\\n",
        "    --image=/content/testimgyay.jpg\n"
      ],
      "execution_count": null,
      "outputs": []
    },
    {
      "cell_type": "code",
      "metadata": {
        "id": "E1Gm5KS2PiwS"
      },
      "source": [
        "!unzip bottlenecks.zip -d /content/tensorflow-for-poets-2/tf_files"
      ],
      "execution_count": null,
      "outputs": []
    },
    {
      "cell_type": "code",
      "metadata": {
        "id": "ITiAeICzFsGF",
        "colab": {
          "base_uri": "https://localhost:8080/",
          "height": 52
        },
        "outputId": "4875fb7f-1290-4b5d-c29d-1baee64b2602"
      },
      "source": [
        "%cd /content/tensorflow-for-poets-2\n",
        "!ls"
      ],
      "execution_count": null,
      "outputs": [
        {
          "output_type": "stream",
          "text": [
            "/content/tensorflow-for-poets-2\n",
            "android  CONTRIBUTING.md  ios  LICENSE\tREADME.md  scripts  tf_files\n"
          ],
          "name": "stdout"
        }
      ]
    },
    {
      "cell_type": "code",
      "metadata": {
        "id": "d92NW9YbIRz6",
        "colab": {
          "base_uri": "https://localhost:8080/",
          "height": 52
        },
        "outputId": "b82a8fac-718c-434a-de00-15e38b86cf73"
      },
      "source": [
        "!rm -r places\n",
        "!ls\n"
      ],
      "execution_count": null,
      "outputs": [
        {
          "output_type": "stream",
          "text": [
            "bottlenecks  retrained_graph.pb    training_summaries\n",
            "models\t     retrained_labels.txt\n"
          ],
          "name": "stdout"
        }
      ]
    },
    {
      "cell_type": "code",
      "metadata": {
        "id": "jcUWV2OYRNoz",
        "colab": {
          "base_uri": "https://localhost:8080/",
          "height": 34
        },
        "outputId": "4a16b369-0e44-4679-fb17-f1b2078f1f95"
      },
      "source": [
        "from google.colab import drive\n",
        "drive.mount('/content/gdrive')"
      ],
      "execution_count": null,
      "outputs": [
        {
          "output_type": "stream",
          "text": [
            "Drive already mounted at /content/gdrive; to attempt to forcibly remount, call drive.mount(\"/content/gdrive\", force_remount=True).\n"
          ],
          "name": "stdout"
        }
      ]
    }
  ]
}